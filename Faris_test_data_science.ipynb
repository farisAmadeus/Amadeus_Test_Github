{
 "metadata": {
  "name": "",
  "signature": "sha256:9ebbe0cf24fdba839eab2abd80170159dea956689589df12af3787f93f0b2c47"
 },
 "nbformat": 3,
 "nbformat_minor": 0,
 "worksheets": [
  {
   "cells": [
    {
     "cell_type": "code",
     "collapsed": false,
     "input": [
      "import pandas as pd\n",
      "import matplotlib.pylab as plt\n",
      "%matplotlib inline"
     ],
     "language": "python",
     "metadata": {},
     "outputs": [],
     "prompt_number": 1
    },
    {
     "cell_type": "code",
     "collapsed": false,
     "input": [
      "'''\n",
      "# heavy datasets\n",
      "def strip(text):\n",
      "    try:\n",
      "        return text.strip()\n",
      "    except AttributeError:\n",
      "        return text\n",
      "searches = pd.read_csv('/Users/farisavdagic/Documents/Amadeus_Test_Github-master/searches.csv.bz2', sep='^', compression = 'bz2')\n",
      "bookings = pd.read_csv('/Users/farisavdagic/Documents/Amadeus_Test_Github-master/searches.csv.bz2',sep='^', compression = 'bz2', warn_bad_lines=False, error_bad_lines=False, converters = {'arr_port' : strip, 'dep_port':strip })\n",
      "bookings = bookings.rename(columns=lambda x: x.strip())\n",
      "'''"
     ],
     "language": "python",
     "metadata": {},
     "outputs": []
    },
    {
     "cell_type": "code",
     "collapsed": false,
     "input": [
      "# select subsets\n",
      "def strip(text):\n",
      "    try:\n",
      "        return text.strip()\n",
      "    except AttributeError:\n",
      "        return text\n",
      "searches = pd.read_csv('/Users/farisavdagic/Documents/Amadeus_Test_Github-master/searches_test.csv', sep='^')\n",
      "bookings = pd.read_csv('/Users/farisavdagic/Documents/Amadeus_Test_Github-master/bookings_test.csv',sep='^', warn_bad_lines=False, error_bad_lines=False, converters = {'arr_port' : strip, 'dep_port':strip })\n",
      "bookings = bookings.rename(columns=lambda x: x.strip())\n"
     ],
     "language": "python",
     "metadata": {},
     "outputs": [],
     "prompt_number": 6
    },
    {
     "cell_type": "code",
     "collapsed": false,
     "input": [
      "# First exercise\n",
      "print 'nb lines bookings dataset : ', bookings.shape[0]\n",
      "print 'nb lines searches dataset : ', searches.shape[0]"
     ],
     "language": "python",
     "metadata": {},
     "outputs": [
      {
       "output_type": "stream",
       "stream": "stdout",
       "text": [
        "nb lines bookings dataset :  "
       ]
      },
      {
       "output_type": "stream",
       "stream": "stdout",
       "text": [
        "2999999\n",
        "nb lines searches dataset :  2999999\n"
       ]
      }
     ],
     "prompt_number": 7
    },
    {
     "cell_type": "code",
     "collapsed": false,
     "input": [
      "# Second exercise\n",
      "bookings_pos = bookings[(bookings.pax > 0) & (bookings.year == 2013)]\n",
      "groupby_arr_port = bookings_pos[['arr_port','pax']].groupby('arr_port').sum().sort('pax', ascending=False)\n",
      "print groupby_arr_port.head(10)"
     ],
     "language": "python",
     "metadata": {},
     "outputs": [
      {
       "output_type": "stream",
       "stream": "stdout",
       "text": [
        "            pax\n",
        "arr_port       \n",
        "LHR       63579\n",
        "JFK       48471\n",
        "CDG       47364\n",
        "LAX       44559\n",
        "BKK       44145\n",
        "DXB       40974\n",
        "MIA       40557\n",
        "MCO       37770\n",
        "LAS       33747\n",
        "SFO       32487\n",
        "\n",
        "[10 rows x 1 columns]\n"
       ]
      }
     ],
     "prompt_number": 8
    },
    {
     "cell_type": "code",
     "collapsed": false,
     "input": [
      "# Third exercise\n",
      "destination_interested = ['MAD', 'BCN', 'AGP']\n",
      "searches_reducted = searches[searches['Destination'].isin(destination_interested)]\n",
      "\n",
      "groupby_destination = searches_reducted[['Date', 'Destination']].groupby(['Destination',pd.DatetimeIndex(pd.DatetimeIndex(searches_reducted.Date)).month]).size()\n",
      "plt.figure()\n",
      "for dest in destination_interested:\n",
      "    plt.plot(groupby_destination[dest].index.tolist(), groupby_destination[dest],label=dest )\n",
      "plt.legend()\n",
      "plt.xlabel('Month')\n",
      "plt.ylabel('Number of Searches')\n"
     ],
     "language": "python",
     "metadata": {},
     "outputs": [
      {
       "metadata": {},
       "output_type": "pyout",
       "prompt_number": 9,
       "text": [
        "<matplotlib.text.Text at 0x1039d11d0>"
       ]
      },
      {
       "metadata": {},
       "output_type": "display_data",
       "png": "[encoded data removed]",
       "text": [
        "<matplotlib.figure.Figure at 0x1038f5d10>"
       ]
      }
     ],
     "prompt_number": 9
    },
    {
     "cell_type": "code",
     "collapsed": false,
     "input": [
      "# Bonus exercise 2\n",
      "from collections import defaultdict\n",
      "import json\n",
      "def wrap_output(groupby, n):\n",
      "    groupby = groupby.head(n)\n",
      "    results = defaultdict(lambda: defaultdict(dict))\n",
      "    for key, value in groupby.itertuples():\n",
      "        results[key] = value  \n",
      "    return json.dumps(results)\n",
      "\n",
      "# test function \n",
      "print wrap_output(groupby_arr_port, 10)"
     ],
     "language": "python",
     "metadata": {},
     "outputs": [
      {
       "output_type": "stream",
       "stream": "stdout",
       "text": [
        "{\"JFK\": 48471, \"MCO\": 37770, \"CDG\": 47364, \"MIA\": 40557, \"BKK\": 44145, \"SFO\": 32487, \"LAX\": 44559, \"LHR\": 63579, \"DXB\": 40974, \"LAS\": 33747}\n"
       ]
      }
     ],
     "prompt_number": 10
    },
    {
     "cell_type": "code",
     "collapsed": false,
     "input": [],
     "language": "python",
     "metadata": {},
     "outputs": []
    }
   ],
   "metadata": {}
  }
 ]
}