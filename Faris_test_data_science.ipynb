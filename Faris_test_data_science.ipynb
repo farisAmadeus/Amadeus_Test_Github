{
 "metadata": {
  "name": "",
  "signature": "sha256:d5a5dc2836b01fa5980586be91ea4ad9485444ae4151554acd5a085c6e590761"
 },
 "nbformat": 3,
 "nbformat_minor": 0,
 "worksheets": [
  {
   "cells": [
    {
     "cell_type": "code",
     "collapsed": false,
     "input": [
      "import pandas as pd\n",
      "import matplotlib.pylab as plt\n",
      "%matplotlib inline"
     ],
     "language": "python",
     "metadata": {},
     "outputs": [],
     "prompt_number": 1
    },
    {
     "cell_type": "code",
     "collapsed": false,
     "input": [
      "# heavy dataset\n",
      "def strip(text):\n",
      "    try:\n",
      "        return text.strip()\n",
      "    except AttributeError:\n",
      "        return text\n",
      "searches = pd.read_csv('/Users/farisavdagic/Documents/Amadeus_Test_Github-master/searches.csv.bz2', sep='^', compression = 'bz2')\n",
      "bookings = pd.read_csv('/Users/farisavdagic/Documents/Amadeus_Test_Github-master/searches.csv.bz2',sep='^', compression = 'bz2', warn_bad_lines=False, error_bad_lines=False, converters = {'arr_port' : strip, 'dep_port':strip })\n"
     ],
     "language": "python",
     "metadata": {},
     "outputs": []
    },
    {
     "cell_type": "code",
     "collapsed": false,
     "input": [
      "bookings = bookings.rename(columns=lambda x: x.strip())"
     ],
     "language": "python",
     "metadata": {},
     "outputs": []
    },
    {
     "cell_type": "code",
     "collapsed": false,
     "input": [
      "# First exercise\n",
      "print 'nb lines bookings dataset : ', bookings.shape[0]\n",
      "print 'nb lines searches dataset : ', searches.shape[0]"
     ],
     "language": "python",
     "metadata": {},
     "outputs": [
      {
       "output_type": "stream",
       "stream": "stdout",
       "text": [
        "nb lines bookings dataset :  99999\n",
        "nb lines searches dataset :  99999\n"
       ]
      }
     ],
     "prompt_number": 6
    },
    {
     "cell_type": "code",
     "collapsed": false,
     "input": [
      "# Second exercise\n",
      "bookings_pos = bookings[(bookings.pax > 0) & (bookings.year == 2013)]\n",
      "groupby_arr_port = bookings_pos[['arr_port','pax']].groupby('arr_port').sum().sort('pax', ascending=False)\n",
      "print groupby_arr_port.head(10)"
     ],
     "language": "python",
     "metadata": {},
     "outputs": [
      {
       "ename": "AttributeError",
       "evalue": "'DataFrame' object has no attribute 'pax'",
       "output_type": "pyerr",
       "traceback": [
        "\u001b[0;31m---------------------------------------------------------------------------\u001b[0m\n\u001b[0;31mAttributeError\u001b[0m                            Traceback (most recent call last)",
        "\u001b[0;32m<ipython-input-110-5248721c74e4>\u001b[0m in \u001b[0;36m<module>\u001b[0;34m()\u001b[0m\n\u001b[1;32m      1\u001b[0m \u001b[0;31m# Second exercise\u001b[0m\u001b[0;34m\u001b[0m\u001b[0;34m\u001b[0m\u001b[0m\n\u001b[0;32m----> 2\u001b[0;31m \u001b[0mbookings_pos\u001b[0m \u001b[0;34m=\u001b[0m \u001b[0mbookings\u001b[0m\u001b[0;34m[\u001b[0m\u001b[0;34m(\u001b[0m\u001b[0mbookings\u001b[0m\u001b[0;34m.\u001b[0m\u001b[0mpax\u001b[0m \u001b[0;34m>\u001b[0m \u001b[0;36m0\u001b[0m\u001b[0;34m)\u001b[0m \u001b[0;34m&\u001b[0m \u001b[0;34m(\u001b[0m\u001b[0mbookings\u001b[0m\u001b[0;34m.\u001b[0m\u001b[0myear\u001b[0m \u001b[0;34m==\u001b[0m \u001b[0;36m2013\u001b[0m\u001b[0;34m)\u001b[0m\u001b[0;34m]\u001b[0m\u001b[0;34m\u001b[0m\u001b[0m\n\u001b[0m\u001b[1;32m      3\u001b[0m \u001b[0mgroupby_arr_port\u001b[0m \u001b[0;34m=\u001b[0m \u001b[0mbookings_pos\u001b[0m\u001b[0;34m[\u001b[0m\u001b[0;34m[\u001b[0m\u001b[0;34m'arr_port'\u001b[0m\u001b[0;34m,\u001b[0m\u001b[0;34m'pax'\u001b[0m\u001b[0;34m]\u001b[0m\u001b[0;34m]\u001b[0m\u001b[0;34m.\u001b[0m\u001b[0mgroupby\u001b[0m\u001b[0;34m(\u001b[0m\u001b[0;34m'arr_port'\u001b[0m\u001b[0;34m)\u001b[0m\u001b[0;34m.\u001b[0m\u001b[0msum\u001b[0m\u001b[0;34m(\u001b[0m\u001b[0;34m)\u001b[0m\u001b[0;34m.\u001b[0m\u001b[0msort\u001b[0m\u001b[0;34m(\u001b[0m\u001b[0;34m'pax'\u001b[0m\u001b[0;34m,\u001b[0m \u001b[0mascending\u001b[0m\u001b[0;34m=\u001b[0m\u001b[0mFalse\u001b[0m\u001b[0;34m)\u001b[0m\u001b[0;34m\u001b[0m\u001b[0m\n\u001b[1;32m      4\u001b[0m \u001b[0;32mprint\u001b[0m \u001b[0mgroupby_arr_port\u001b[0m\u001b[0;34m.\u001b[0m\u001b[0mhead\u001b[0m\u001b[0;34m(\u001b[0m\u001b[0;36m10\u001b[0m\u001b[0;34m)\u001b[0m\u001b[0;34m\u001b[0m\u001b[0m\n",
        "\u001b[0;32m/Users/farisavdagic/anaconda/lib/python2.7/site-packages/pandas/core/generic.pyc\u001b[0m in \u001b[0;36m__getattr__\u001b[0;34m(self, name)\u001b[0m\n\u001b[1;32m   1813\u001b[0m                 \u001b[0;32mreturn\u001b[0m \u001b[0mself\u001b[0m\u001b[0;34m[\u001b[0m\u001b[0mname\u001b[0m\u001b[0;34m]\u001b[0m\u001b[0;34m\u001b[0m\u001b[0m\n\u001b[1;32m   1814\u001b[0m             raise AttributeError(\"'%s' object has no attribute '%s'\" %\n\u001b[0;32m-> 1815\u001b[0;31m                                  (type(self).__name__, name))\n\u001b[0m\u001b[1;32m   1816\u001b[0m \u001b[0;34m\u001b[0m\u001b[0m\n\u001b[1;32m   1817\u001b[0m     \u001b[0;32mdef\u001b[0m \u001b[0m__setattr__\u001b[0m\u001b[0;34m(\u001b[0m\u001b[0mself\u001b[0m\u001b[0;34m,\u001b[0m \u001b[0mname\u001b[0m\u001b[0;34m,\u001b[0m \u001b[0mvalue\u001b[0m\u001b[0;34m)\u001b[0m\u001b[0;34m:\u001b[0m\u001b[0;34m\u001b[0m\u001b[0m\n",
        "\u001b[0;31mAttributeError\u001b[0m: 'DataFrame' object has no attribute 'pax'"
       ]
      }
     ],
     "prompt_number": 110
    },
    {
     "cell_type": "code",
     "collapsed": false,
     "input": [
      "# Third exercise\n",
      "destination_interested = ['MAD', 'BCN', 'AGP']\n",
      "searches_reducted = searches[searches['Destination'].isin(destination_interested)]\n",
      "\n",
      "groupby_destination = searches_reducted[['Date', 'Destination']].groupby(['Destination',pd.DatetimeIndex(pd.DatetimeIndex(searches_reducted.Date)).month]).size()\n",
      "plt.figure()\n",
      "for dest in destination_interested:\n",
      "    plt.plot(groupby_destination[dest].index.tolist(), groupby_destination[dest],label=dest )\n",
      "plt.legend()\n",
      "plt.xlabel('Month')\n",
      "plt.ylabel('Number of Searches')\n"
     ],
     "language": "python",
     "metadata": {},
     "outputs": [
      {
       "metadata": {},
       "output_type": "pyout",
       "prompt_number": 32,
       "text": [
        "<matplotlib.text.Text at 0x108025b50>"
       ]
      },
      {
       "metadata": {},
       "output_type": "display_data",
       "png": "[encoded data removed]",
       "text": [
        "<matplotlib.figure.Figure at 0x107e98e10>"
       ]
      }
     ],
     "prompt_number": 32
    },
    {
     "cell_type": "code",
     "collapsed": false,
     "input": [
      "# Bonus exercise 1\n",
      "#data_set = data_set.reset_index()\n",
      "#data_test_searches = data_test_searches.reset_index()\n",
      "#data_set['dep_arr_port0'] = data_set.dep_port + data_test.arr_port\n",
      "#data_test_searches['dep_arr_port1'] = data_test_searches.Origin + data_test_searches.Destination\n",
      "a = data_test_searches.set_index('OfficeID').join(data_set.set_index('pos_oid'), how='inner')\n",
      "a.shape\n",
      "a.irow(1)"
     ],
     "language": "python",
     "metadata": {},
     "outputs": [
      {
       "metadata": {},
       "output_type": "pyout",
       "prompt_number": 103,
       "text": [
        "Date               2013-03-20\n",
        "Time                 10:11:30\n",
        "TxnCode                   FXP\n",
        "Country                    BE\n",
        "Origin                    BRU\n",
        "Destination               GZT\n",
        "RoundTrip                   1\n",
        "NbSegments                  4\n",
        "Seg1Departure             BRU\n",
        "Seg1Arrival               IST\n",
        "Seg1Date           2013-03-25\n",
        "Seg1Carrier                EU\n",
        "Seg1BookingCode             C\n",
        "Seg2Departure             IST\n",
        "Seg2Arrival               GZT\n",
        "...\n",
        "off_ctry                BE      \n",
        "mkt_port                BRUMPL  \n",
        "mkt_city                BRUMPL  \n",
        "mkt_ctry                BEFR    \n",
        "intl                           1\n",
        "route            MPLLYSBRU      \n",
        "carrier                       KX\n",
        "bkg_class              A        \n",
        "cab_class              F        \n",
        "brd_time     2013-04-25 18:25:00\n",
        "off_time     2013-04-25 21:18:42\n",
        "pax                            1\n",
        "year                        2013\n",
        "month                          4\n",
        "oid                    BRUBG2167\n",
        "Name: 0000f1d759a4777645505aabbd649d32, Length: 81, dtype: object"
       ]
      }
     ],
     "prompt_number": 103
    },
    {
     "cell_type": "code",
     "collapsed": false,
     "input": [
      "# Bonus exercise 2\n",
      "from collections import defaultdict\n",
      "import json\n",
      "def wrap_output(groupby, n):\n",
      "    groupby = groupby.head(n)\n",
      "    results = defaultdict(lambda: defaultdict(dict))\n",
      "    for key, value in groupby.itertuples():\n",
      "        results[key] = value  \n",
      "    return json.dumps(results)\n",
      "\n",
      "# test function \n",
      "print wrap_output(groupby_arr_port, 10)"
     ],
     "language": "python",
     "metadata": {},
     "outputs": [
      {
       "output_type": "stream",
       "stream": "stdout",
       "text": [
        "{\"MCO     \": 1494, \"CDG     \": 1574, \"LHR     \": 2067, \"BKK     \": 1614, \"JFK     \": 1777, \"DXB     \": 1333, \"MIA     \": 1366, \"FCO     \": 1192, \"LAX     \": 1637, \"SFO     \": 1222}\n"
       ]
      }
     ],
     "prompt_number": 29
    },
    {
     "cell_type": "code",
     "collapsed": false,
     "input": [],
     "language": "python",
     "metadata": {},
     "outputs": []
    }
   ],
   "metadata": {}
  }
 ]
}