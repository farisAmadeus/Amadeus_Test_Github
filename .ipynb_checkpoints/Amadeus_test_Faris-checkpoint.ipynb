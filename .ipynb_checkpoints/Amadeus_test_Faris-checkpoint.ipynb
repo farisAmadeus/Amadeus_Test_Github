{
 "cells": [
  {
   "cell_type": "code",
   "execution_count": 1,
   "metadata": {
    "collapsed": false
   },
   "outputs": [],
   "source": [
    "import pandas as pd\n",
    "import matplotlib.pylab as plt\n",
    "%matplotlib inline"
   ]
  },
  {
   "cell_type": "code",
   "execution_count": null,
   "metadata": {
    "collapsed": false
   },
   "outputs": [],
   "source": [
    "# heavy dataset\n",
    "data0 = pd.read_csv('/Users/farisavdagic/Downloads/searches.csv.bz2', compression = 'bz2', warn_bad_lines=False, error_bad_lines=False)"
   ]
  },
  {
   "cell_type": "code",
   "execution_count": 113,
   "metadata": {
    "collapsed": false
   },
   "outputs": [],
   "source": [
    "# Data importation\n",
    "data_test = pd.read_csv('/Users/farisavdagic/Downloads/bookings_test.csv', sep='^')\n",
    "data_set = data_test.rename(columns=lambda x: x.strip())\n",
    "data_test_searches = pd.read_csv('/Users/farisavdagic/Downloads/searches_test.csv', sep='^')\n",
    "#data_test_searches['InternetOffice']"
   ]
  },
  {
   "cell_type": "code",
   "execution_count": 110,
   "metadata": {
    "collapsed": false
   },
   "outputs": [
    {
     "name": "stdout",
     "output_type": "stream",
     "text": [
      "nb lines bookings dataset :  99\n",
      "nb lines searches dataset :  1499999\n"
     ]
    }
   ],
   "source": [
    "# First exercise\n",
    "print 'nb lines bookings dataset : ', data_set.shape[0]\n",
    "print 'nb lines searches dataset : ', data_test_searches.shape[0]"
   ]
  },
  {
   "cell_type": "code",
   "execution_count": 78,
   "metadata": {
    "collapsed": false
   },
   "outputs": [
    {
     "name": "stdout",
     "output_type": "stream",
     "text": [
      "          pax\n",
      "arr_port     \n",
      "SIN        12\n",
      "HAV        12\n",
      "YWG        10\n",
      "MNL         6\n",
      "AYT         6\n",
      "BWI         6\n",
      "LIS         6\n",
      "PVG         6\n",
      "DMM         6\n",
      "ZRH         4\n"
     ]
    }
   ],
   "source": [
    "# Second exercise\n",
    "data_set_pos = data_set[(data_set.pax > 0) & (data_set.year == 2013)]\n",
    "groupby_arr_port = data_set_pos[['arr_port','pax']].groupby('arr_port').sum().sort('pax', ascending=False)\n",
    "print groupby_arr_port.head(10)"
   ]
  },
  {
   "cell_type": "code",
   "execution_count": 117,
   "metadata": {
    "collapsed": false
   },
   "outputs": [
    {
     "data": {
      "text/plain": [
       "Destination   \n",
       "AGP          1     48\n",
       "BCN          1    162\n",
       "MAD          1    125\n",
       "dtype: int64"
      ]
     },
     "execution_count": 117,
     "metadata": {},
     "output_type": "execute_result"
    },
    {
     "data": {
      "image/png": "[encoded data removed]",
      "text/plain": [
       "<matplotlib.figure.Figure at 0x108f87b50>"
      ]
     },
     "metadata": {},
     "output_type": "display_data"
    }
   ],
   "source": [
    "# Third exercise\n",
    "destination_interested = ['MAD', 'BCN', 'AGP']\n",
    "data_test_searches_reducted = data_test_searches[data_test_searches['Destination'].isin(destination_interested)]\n",
    "groupby_destination = data_test_searches_reducted[['Date', 'Destination']].groupby(['Destination',pd.DatetimeIndex(data_test_searches_reducted.Date).month]).size()\n",
    "plt.figure()\n",
    "for dest in destination_interested:\n",
    "    plt.plot(groupby_destination[dest].index.tolist(), groupby_destination[dest],label=dest )\n",
    "plt.legend()\n",
    "plt.xlabel('Month')\n",
    "plt.ylabel('Number of Searches')"
   ]
  },
  {
   "cell_type": "code",
   "execution_count": 115,
   "metadata": {
    "collapsed": false
   },
   "outputs": [
    {
     "data": {
      "text/plain": [
       "array(['2013-01-01', '2013-01-02', '2013-01-03', '2013-01-04',\n",
       "       '2013-01-05', '2013-01-06', '2013-01-07', '2013-01-08',\n",
       "       '2013-01-09', '2013-01-10'], dtype=object)"
      ]
     },
     "execution_count": 115,
     "metadata": {},
     "output_type": "execute_result"
    }
   ],
   "source": [
    "data_test_searches_reducted.Date.unique()"
   ]
  },
  {
   "cell_type": "code",
   "execution_count": 91,
   "metadata": {
    "collapsed": false
   },
   "outputs": [
    {
     "name": "stdout",
     "output_type": "stream",
     "text": [
      "{\"YWG     \": 10, \"DMM     \": 6, \"AYT     \": 6, \"BWI     \": 6, \"PVG     \": 6, \"HAV     \": 12, \"SIN     \": 12, \"LIS     \": 6, \"ZRH     \": 4, \"MNL     \": 6}\n"
     ]
    }
   ],
   "source": [
    "# Bonus exercise 2\n",
    "from collections import defaultdict\n",
    "import json\n",
    "def wrap_output(groupby, n):\n",
    "    groupby = groupby.head(n)\n",
    "    results = defaultdict(lambda: defaultdict(dict))\n",
    "    for key, value in groupby.itertuples():\n",
    "        results[key] = value  \n",
    "    return json.dumps(results)\n",
    "\n",
    "# test function \n",
    "print wrap_output(groupby_arr_port, 10)"
   ]
  }
 ],
 "metadata": {
  "kernelspec": {
   "display_name": "Python 2",
   "language": "python",
   "name": "python2"
  },
  "language_info": {
   "codemirror_mode": {
    "name": "ipython",
    "version": 2
   },
   "file_extension": ".py",
   "mimetype": "text/x-python",
   "name": "python",
   "nbconvert_exporter": "python",
   "pygments_lexer": "ipython2",
   "version": "2.7.2"
  }
 },
 "nbformat": 4,
 "nbformat_minor": 0
}
